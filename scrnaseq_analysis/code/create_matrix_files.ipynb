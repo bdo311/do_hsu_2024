{
 "cells": [
  {
   "cell_type": "code",
   "execution_count": 1,
   "metadata": {},
   "outputs": [],
   "source": [
    "import matplotlib\n",
    "import numpy as np\n",
    "import matplotlib.pyplot as plt\n",
    "import sys, collections, os, argparse"
   ]
  },
  {
   "cell_type": "markdown",
   "metadata": {},
   "source": [
    "## Build Index"
   ]
  },
  {
   "cell_type": "code",
   "execution_count": 2,
   "metadata": {},
   "outputs": [],
   "source": [
    "# Something is messed up in this workflow where we end up with MUSG instead of MUST for the ensembl \n",
    "# Right now I am fixing this in the other notebook, so it should be okay in the end, but just a note if I work on this \n",
    "# in the future"
   ]
  },
  {
   "cell_type": "code",
   "execution_count": 2,
   "metadata": {},
   "outputs": [
    {
     "name": "stdout",
     "output_type": "stream",
     "text": [
      "Mouse transcriptome already downloaded!\n"
     ]
    }
   ],
   "source": [
    "#Check if the file was downloaded already before doing curl:\n",
    "if not (os.path.isfile('Mus_musculus.GRCm38.cdna.all.fa.gz')): \n",
    "    # the `!` means we're running a command line statement (rather than python)  \n",
    "    !curl -O ftp://ftp.ensembl.org/pub/release-94/fasta/mus_musculus/cdna/Mus_musculus.GRCm38.cdna.all.fa.gz\n",
    "else: print('Mouse transcriptome already downloaded!')"
   ]
  },
  {
   "cell_type": "code",
   "execution_count": 3,
   "metadata": {},
   "outputs": [
    {
     "name": "stdout",
     "output_type": "stream",
     "text": [
      "Mouse transcript index already exist!\n"
     ]
    }
   ],
   "source": [
    "### Now we can build the index\n",
    "if not (os.path.isfile('mouse_transcriptome_index.idx')): \n",
    "    !kallisto index -i mouse_transcriptome_index.idx Mus_musculus.GRCm38.cdna.all.fa.gz\n",
    "else: print ('Mouse transcript index already exist!')"
   ]
  },
  {
   "cell_type": "markdown",
   "metadata": {},
   "source": [
    "### Download human and mouse reference transcriptomes from ensembl\n",
    "In order to do that we first download the human and mouse transcriptomes from ensembl. You can see the reference genomes they have at https://uswest.ensembl.org/info/data/ftp/index.html"
   ]
  },
  {
   "cell_type": "code",
   "execution_count": 4,
   "metadata": {},
   "outputs": [
    {
     "name": "stdout",
     "output_type": "stream",
     "text": [
      "  % Total    % Received % Xferd  Average Speed   Time    Time     Time  Current\n",
      "                                 Dload  Upload   Total   Spent    Left  Speed\n",
      "100 28.0M  100 28.0M    0     0  10.1M      0  0:00:02  0:00:02 --:--:-- 10.1M\n"
     ]
    }
   ],
   "source": [
    "#Check if the file was downloaded already before doing curl:\n",
    "if not (os.path.isfile('Mus_musculus.GRCm38.94.gtf.gz')) or os.path.isfile('Mus_musculus.GRCm38.94.gtf'): \n",
    "    # the `!` means we're running a command line statement (rather than python)  \n",
    "    !curl -O ftp://ftp.ensembl.org/pub/release-94/gtf/mus_musculus/Mus_musculus.GRCm38.94.gtf.gz\n",
    "else: print('Mouse GTF already downloaded!')"
   ]
  },
  {
   "cell_type": "code",
   "execution_count": 5,
   "metadata": {},
   "outputs": [
    {
     "name": "stdout",
     "output_type": "stream",
     "text": [
      "./Mus_musculus.GRCm38.94.gtf.gz:\t 96.2% -- replaced with ./Mus_musculus.GRCm38.94.gtf\n"
     ]
    }
   ],
   "source": [
    "# Unzip the files\n",
    "!gunzip -v -f ./Mus_musculus.GRCm38.94.gtf.gz"
   ]
  },
  {
   "cell_type": "markdown",
   "metadata": {},
   "source": [
    "## Create transcript_to_gene.tsv\n",
    "Now we can use the cells below to parse the GTF file and keep only the transcript mapping as a tsv file in the format below."
   ]
  },
  {
   "cell_type": "code",
   "execution_count": 2,
   "metadata": {},
   "outputs": [],
   "source": [
    "def create_transcript_list(input, use_name = True, use_version = True):\n",
    "    r = {}\n",
    "    for line in input:\n",
    "        if len(line) == 0 or line[0] == '#':\n",
    "            continue\n",
    "        l = line.strip().split('\\t')\n",
    "        if l[2] == 'transcript':\n",
    "            info = l[8]\n",
    "            d = {}\n",
    "            for x in info.split('; '):\n",
    "                x = x.strip()\n",
    "                p = x.find(' ')\n",
    "                if p == -1:\n",
    "                    continue\n",
    "                k = x[:p]\n",
    "                p = x.find('\"',p)\n",
    "                p2 = x.find('\"',p+1)\n",
    "                v = x[p+1:p2]\n",
    "                d[k] = v\n",
    "\n",
    "\n",
    "            if 'transcript_id' not in d or 'gene_id' not in d:\n",
    "                continue\n",
    "\n",
    "            tid = d['transcript_id']\n",
    "            gid = d['gene_id']\n",
    "            if use_version:\n",
    "                if 'transcript_version' not in d or 'gene_version' not in d:\n",
    "                    continue\n",
    "\n",
    "                tid += '.' + d['transcript_version']\n",
    "                gid += '.' + d['gene_version']\n",
    "            gname = None\n",
    "            if use_name:\n",
    "                if 'gene_name' not in d:\n",
    "                    continue\n",
    "                gname = d['gene_name']\n",
    "\n",
    "            if tid in r:\n",
    "                continue\n",
    "\n",
    "            r[tid] = (gid, gname)\n",
    "    return r\n",
    "\n",
    "\n",
    "\n",
    "def print_output(output, r, use_name = True):\n",
    "    for tid in r:\n",
    "        if use_name:\n",
    "            output.write(\"%s\\t%s\\t%s\\n\"%(tid, r[tid][0], r[tid][1]))\n",
    "        else:\n",
    "            output.write(\"%s\\t%s\\n\"%(tid, r[tid][0]))"
   ]
  },
  {
   "cell_type": "code",
   "execution_count": 7,
   "metadata": {},
   "outputs": [
    {
     "name": "stdout",
     "output_type": "stream",
     "text": [
      "Created mouse_transcript_to_gene.tsv file\n"
     ]
    }
   ],
   "source": [
    "with open('./Mus_musculus.GRCm38.94.gtf') as file:\n",
    "    r = create_transcript_list(file, use_name = True, use_version = True)\n",
    "with open('mouse_transcript_to_gene.tsv', \"w+\") as output:\n",
    "    print_output(output, r, use_name = True)\n",
    "print('Created mouse_transcript_to_gene.tsv file')"
   ]
  },
  {
   "cell_type": "code",
   "execution_count": 3,
   "metadata": {},
   "outputs": [
    {
     "name": "stdout",
     "output_type": "stream",
     "text": [
      "\n",
      "[index] k-mer length: 31\n",
      "[index] number of targets: 115,270\n",
      "[index] number of k-mers: 98,989,067\n",
      "[index] number of equivalence classes: 419,171\n",
      "[quant] will process sample 1: 200630Van/D20-2488-4537L/200630Van_D20-2488_1_sequence.fastq\n",
      "                               200630Van/D20-2488-4537L/200630Van_D20-2488_2_sequence.fastq\n",
      "[quant] will process sample 2: 200630Van/D20-3269-4585G/200630Van_D20-3269_1_sequence.fastq\n",
      "                               200630Van/D20-3269-4585G/200630Van_D20-3269_2_sequence.fastq\n",
      "[quant] finding pseudoalignments for the reads ... done\n",
      "[quant] processed 856,330,008 reads, 596,570,566 reads pseudoaligned\n"
     ]
    }
   ],
   "source": [
    "!kallisto bus -i mouse_transcriptome_index.idx  -o out_gmp_merged -x 10xv2 -t 2 \\\n",
    "200630Van/D20-2488-4537L/200630Van_D20-2488_1_sequence.fastq 200630Van/D20-2488-4537L/200630Van_D20-2488_2_sequence.fastq \\\n",
    "200630Van/D20-3269-4585G/200630Van_D20-3269_1_sequence.fastq 200630Van/D20-3269-4585G/200630Van_D20-3269_2_sequence.fastq\n"
   ]
  },
  {
   "cell_type": "code",
   "execution_count": 4,
   "metadata": {},
   "outputs": [],
   "source": [
    "#load transcript to gene file\n",
    "tr2g = {}\n",
    "trlist = []\n",
    "with open('./mouse_transcript_to_gene.tsv') as f:\n",
    "    for line in f:\n",
    "        l = line.split()\n",
    "        tr2g[l[0]] = l[1]\n",
    "        trlist.append(l[0])\n",
    "\n",
    "genes = list(set(tr2g[t] for t in tr2g))\n",
    "\n",
    "# load equivalence classes\n",
    "ecs = {}\n",
    "with open('./out_gmp_merged/matrix.ec') as f:\n",
    "    for line in f:\n",
    "        l = line.split()\n",
    "        ec = int(l[0])\n",
    "        trs = [int(x) for x in l[1].split(',')]\n",
    "        ecs[ec] = trs\n",
    "        \n",
    "def ec2g(ec):\n",
    "    if ec in ecs:\n",
    "        return list(set(tr2g[trlist[t]] for t in ecs[ec]))        \n",
    "    else:\n",
    "        return []"
   ]
  },
  {
   "cell_type": "markdown",
   "metadata": {},
   "source": [
    "### Processing the BUS file\n",
    "For these notebooks we will work with the text file that BUStools produces, rather than the raw BUS file. To install BUStools see https://github.com/BUStools/bustools\n",
    "\n",
    "We discard any barcodes that don't have more 10 UMIs\n",
    "\n",
    "To produce the text file, starting with the output.bus file produced by kallisto, we first sort it on bustools:\n",
    "\n",
    "bustools sort -o output.sorted output.bus\n",
    "Then we convert it to txt:\n",
    "\n",
    "bustools text -o output.sorted.txt output.sorted"
   ]
  },
  {
   "cell_type": "code",
   "execution_count": 5,
   "metadata": {},
   "outputs": [
    {
     "name": "stdout",
     "output_type": "stream",
     "text": [
      "Read in 596570566 number of busrecords\r\n"
     ]
    }
   ],
   "source": [
    "#sort bus file\n",
    "!bustools sort -o ./out_gmp_merged/output_sorted.bus ./out_gmp_merged/output.bus"
   ]
  },
  {
   "cell_type": "code",
   "execution_count": 6,
   "metadata": {},
   "outputs": [
    {
     "name": "stdout",
     "output_type": "stream",
     "text": [
      "Read in 472774795 number of busrecords\r\n"
     ]
    }
   ],
   "source": [
    "!bustools text -o ./out_gmp_merged/output_sorted.txt ./out_gmp_merged/output_sorted.bus"
   ]
  },
  {
   "cell_type": "markdown",
   "metadata": {},
   "source": [
    "## Loading generated data"
   ]
  },
  {
   "cell_type": "code",
   "execution_count": 7,
   "metadata": {},
   "outputs": [],
   "source": [
    "#load transcripts\n",
    "tr2g = {}\n",
    "trlist = []\n",
    "with open('./mouse_transcript_to_gene.tsv') as f:\n",
    "    for line in f:\n",
    "        l = line.split()\n",
    "        tr2g[l[0]] = l[1]\n",
    "        trlist.append(l[0])\n",
    "\n",
    "genes = list(set(tr2g[t] for t in tr2g))\n",
    "\n",
    "# load equivalence classes\n",
    "ecs = {}\n",
    "with open('./out_gmp_merged/matrix.ec') as f:\n",
    "    for line in f:\n",
    "        l = line.split()\n",
    "        ec = int(l[0])\n",
    "        trs = [int(x) for x in l[1].split(',')]\n",
    "        ecs[ec] = trs\n",
    "        \n",
    "def ec2g(ec):\n",
    "    if ec in ecs:\n",
    "        return list(set(tr2g[trlist[t]] for t in ecs[ec]))        \n",
    "    else:\n",
    "        return []"
   ]
  },
  {
   "cell_type": "code",
   "execution_count": 8,
   "metadata": {},
   "outputs": [
    {
     "name": "stdout",
     "output_type": "stream",
     "text": [
      "0\n",
      "5000000\n",
      "10000000\n",
      "15000000\n",
      "20000000\n",
      "25000000\n",
      "30000000\n",
      "35000000\n",
      "40000000\n",
      "45000000\n",
      "50000000\n",
      "55000000\n",
      "60000000\n",
      "65000000\n",
      "70000000\n",
      "75000000\n",
      "80000000\n",
      "85000000\n",
      "90000000\n",
      "95000000\n",
      "100000000\n",
      "105000000\n",
      "110000000\n",
      "115000000\n",
      "120000000\n",
      "125000000\n",
      "130000000\n",
      "135000000\n",
      "140000000\n",
      "145000000\n",
      "150000000\n",
      "155000000\n",
      "160000000\n",
      "165000000\n",
      "170000000\n",
      "175000000\n",
      "180000000\n",
      "185000000\n",
      "190000000\n",
      "195000000\n",
      "200000000\n",
      "205000000\n",
      "210000000\n",
      "215000000\n",
      "220000000\n",
      "225000000\n",
      "230000000\n",
      "235000000\n",
      "240000000\n",
      "245000000\n",
      "250000000\n",
      "255000000\n",
      "260000000\n",
      "265000000\n",
      "270000000\n",
      "275000000\n",
      "280000000\n",
      "285000000\n",
      "290000000\n",
      "295000000\n",
      "300000000\n",
      "305000000\n",
      "310000000\n",
      "315000000\n",
      "320000000\n",
      "325000000\n",
      "330000000\n",
      "335000000\n",
      "340000000\n",
      "345000000\n",
      "350000000\n",
      "355000000\n",
      "360000000\n",
      "365000000\n",
      "370000000\n",
      "375000000\n",
      "380000000\n",
      "385000000\n",
      "390000000\n",
      "395000000\n",
      "400000000\n",
      "405000000\n",
      "410000000\n",
      "415000000\n",
      "420000000\n",
      "425000000\n",
      "430000000\n",
      "435000000\n",
      "440000000\n",
      "445000000\n",
      "450000000\n",
      "455000000\n",
      "460000000\n",
      "465000000\n",
      "470000000\n"
     ]
    }
   ],
   "source": [
    "# load kallisto bus output dataset\n",
    "cell_gene = collections.defaultdict(lambda: collections.defaultdict(float))\n",
    "pbar=None\n",
    "pumi=None\n",
    "with open('./out_gmp_merged/output_sorted.txt') as f:\n",
    "    gs = set()\n",
    "    c = 0\n",
    "    for line in f:\n",
    "        if (c % 5000000) == 0:\n",
    "            print(c)\n",
    "        l = line.split()\n",
    "        barcode,umi,ec,count = line.split()\n",
    "        ec = int(ec)\n",
    "        \n",
    "        if barcode == pbar:\n",
    "            # same barcode\n",
    "            if umi == pumi:\n",
    "                # same UMI, let's update with intersection of genelist\n",
    "                gl = ec2g(ec)\n",
    "                gs.intersection_update(gl)\n",
    "            else:\n",
    "                # new UMI, process the previous gene set\n",
    "                for g in gs:\n",
    "                    cell_gene[barcode][g] += 1.0/len(gs)\n",
    "                # record new umi, reset gene set\n",
    "                pumi = umi\n",
    "                gs = set(ec2g(ec))\n",
    "        else:\n",
    "            # work with previous gene list\n",
    "            for g in gs:\n",
    "                cell_gene[pbar][g] += 1.0/len(gs)\n",
    "            \n",
    "            if sum(cell_gene[pbar][g] for g in cell_gene[pbar]) < 10:\n",
    "                del cell_gene[pbar]\n",
    "            \n",
    "            pbar = barcode\n",
    "            pumi = umi\n",
    "            \n",
    "            gs = set(ec2g(ec))\n",
    "        c += 1\n",
    "    #remember the last gene\n",
    "    for g in gs:\n",
    "        cell_gene[pbar][g] += 1.0/len(gs)\n",
    "        \n",
    "    if sum(cell_gene[pbar][g] for g in cell_gene[pbar]) < 10:\n",
    "        del cell_gene[pbar]"
   ]
  },
  {
   "cell_type": "code",
   "execution_count": 9,
   "metadata": {},
   "outputs": [],
   "source": [
    "barcode_hist = collections.defaultdict(int)\n",
    "for barcode in cell_gene:\n",
    "    cg = cell_gene[barcode]\n",
    "    s = len([cg[g] for g in cg])\n",
    "    barcode_hist[barcode] += s"
   ]
  },
  {
   "cell_type": "code",
   "execution_count": 10,
   "metadata": {},
   "outputs": [
    {
     "name": "stdout",
     "output_type": "stream",
     "text": [
      "385190\n"
     ]
    },
    {
     "data": {
      "image/png": "[encoded data removed]",
      "text/plain": [
       "<Figure size 432x288 with 1 Axes>"
      ]
     },
     "metadata": {
      "needs_background": "light"
     },
     "output_type": "display_data"
    }
   ],
   "source": [
    "threshold = 0 # this filters the data by gene count\n",
    "bcv = [x for b,x in barcode_hist.items() if x > 0] \n",
    "_ = plt.hist(bcv,bins=100, log=True)\n",
    "plt.rcParams[\"figure.figsize\"] = [9,6]\n",
    "plt.xlabel(\"Number of gene counts\")\n",
    "plt.ylabel(\"Number of barcodes\")\n",
    "plt.grid(True)\n",
    "print(len(bcv))"
   ]
  },
  {
   "cell_type": "markdown",
   "metadata": {},
   "source": [
    "## Export as .mtx"
   ]
  },
  {
   "cell_type": "code",
   "execution_count": 11,
   "metadata": {},
   "outputs": [],
   "source": [
    "outfile = './out_gmp_merged/matrix.mtx'\n",
    "\n",
    "gene_to_id = dict((g,i+1) for i,g in enumerate(genes))\n",
    "barcodes_to_use = [b for b,x in barcode_hist.items() if x > 500]\n",
    "\n",
    "num_entries = 0\n",
    "for barcode in barcodes_to_use:\n",
    "    num_entries += len([x for x in cell_gene[barcode].values() if round(x)>0])"
   ]
  },
  {
   "cell_type": "code",
   "execution_count": 12,
   "metadata": {},
   "outputs": [
    {
     "data": {
      "text/plain": [
       "72017"
      ]
     },
     "execution_count": 12,
     "metadata": {},
     "output_type": "execute_result"
    }
   ],
   "source": [
    "len(barcodes_to_use)"
   ]
  },
  {
   "cell_type": "code",
   "execution_count": 13,
   "metadata": {},
   "outputs": [],
   "source": [
    "with open(outfile, 'w') as of:\n",
    "    of.write('%%MatrixMarket matrix coordinate real general\\n%\\n')\n",
    "    #number of genes\n",
    "    of.write(\"%d %d %d\\n\"%(len(genes), len(barcodes_to_use), num_entries))\n",
    "    bcid = 0\n",
    "    for barcode in barcodes_to_use:\n",
    "        bcid += 1\n",
    "        cg = cell_gene[barcode]\n",
    "        gl = [(gene_to_id[g],round(cg[g])) for g in cg if round(cg[g]) > 0]\n",
    "        gl.sort()\n",
    "        for x in gl:\n",
    "            of.write(\"%d %d %d\\n\"%(x[0],bcid,x[1]))"
   ]
  },
  {
   "cell_type": "code",
   "execution_count": 21,
   "metadata": {},
   "outputs": [],
   "source": [
    "gene_names = {}\n",
    "with open('./mouse_transcript_to_gene.tsv') as f:\n",
    "    f.readline()\n",
    "    for line in f:\n",
    "        t,g,gn = line.split()\n",
    "        gene_names[g] = gn"
   ]
  },
  {
   "cell_type": "code",
   "execution_count": 18,
   "metadata": {},
   "outputs": [],
   "source": [
    "id_to_genes = dict((i,g) for (g,i) in gene_to_id.items())\n",
    "gl = []\n",
    "for i in range(1,len(genes)+1):\n",
    "    g = id_to_genes[i]\n",
    "    gid = g[:g.find('.')]\n",
    "    if g in gene_names:\n",
    "        gn = gene_names[g]\n",
    "    else:\n",
    "        gn = ''\n",
    "    gl.append((g,gn))\n",
    "\n",
    "with open('./out_gmp_merged/genes_t.tsv','w') as of:\n",
    "    for g,gn in gl:\n",
    "        of.write(\"%s\\t%s\\n\"%(g,gn))\n",
    "        \n",
    "with open('./out_gmp_merged/barcodes.tsv','w') as of:\n",
    "    of.write('\\n'.join(x + '-1' for x in barcodes_to_use))\n",
    "    of.write('\\n')"
   ]
  },
  {
   "cell_type": "code",
   "execution_count": 22,
   "metadata": {},
   "outputs": [
    {
     "name": "stdout",
     "output_type": "stream",
     "text": [
      "ENSMUSG00000080735.1\n",
      "\n",
      "ENSMUSG00000109789.1\n",
      "\n",
      "ENSMUSG00000048281.9\n",
      "\n",
      "ENSMUSG00000099108.1\n",
      "\n",
      "ENSMUSG00000022253.15\n",
      "\n",
      "ENSMUSG00000097340.1\n",
      "\n",
      "ENSMUSG00000110118.1\n",
      "\n",
      "ENSMUSG00000058172.1\n",
      "\n",
      "ENSMUSG00000035158.15\n",
      "\n"
     ]
    }
   ],
   "source": [
    "id_to_genes = dict((i,g) for (g,i) in gene_to_id.items())\n",
    "gl = []\n",
    "for i in range(1,10):\n",
    "    g = id_to_genes[i]\n",
    "    gid = g[:g.find('.')]\n",
    "    print(g)\n",
    "    if g in gene_names:\n",
    "        gn = gene_names[g]\n",
    "    else:\n",
    "        gn = ''\n",
    "    print(gn)\n",
    "    gl.append((g,gn))"
   ]
  },
  {
   "cell_type": "code",
   "execution_count": null,
   "metadata": {},
   "outputs": [],
   "source": []
  }
 ],
 "metadata": {
  "kernelspec": {
   "display_name": "Python 3",
   "language": "python",
   "name": "python3"
  },
  "language_info": {
   "codemirror_mode": {
    "name": "ipython",
    "version": 3
   },
   "file_extension": ".py",
   "mimetype": "text/x-python",
   "name": "python",
   "nbconvert_exporter": "python",
   "pygments_lexer": "ipython3",
   "version": "3.7.6"
  }
 },
 "nbformat": 4,
 "nbformat_minor": 4
}
