{
 "cells": [
  {
   "cell_type": "markdown",
   "id": "6a53e841-28ba-4067-a199-a66fa4131fb0",
   "metadata": {},
   "source": [
    "## ER-Hoxa9 metabolomics and drug rescues \n",
    "### Figures 1 and S1"
   ]
  },
  {
   "cell_type": "code",
   "execution_count": 2,
   "id": "satisfactory-potato",
   "metadata": {
    "tags": []
   },
   "outputs": [],
   "source": [
    "library(ComplexHeatmap)\n",
    "library(readxl)"
   ]
  },
  {
   "cell_type": "code",
   "execution_count": 4,
   "id": "directed-character",
   "metadata": {
    "tags": []
   },
   "outputs": [
    {
     "name": "stderr",
     "output_type": "stream",
     "text": [
      "\u001b[1m\u001b[22mNew names:\n",
      "\u001b[36m•\u001b[39m `` -> `...1`\n",
      "\u001b[36m•\u001b[39m `Untreated` -> `Untreated...2`\n",
      "\u001b[36m•\u001b[39m `Untreated` -> `Untreated...3`\n",
      "\u001b[36m•\u001b[39m `Untreated` -> `Untreated...4`\n",
      "\u001b[36m•\u001b[39m `Uridine` -> `Uridine...5`\n",
      "\u001b[36m•\u001b[39m `Uridine` -> `Uridine...6`\n",
      "\u001b[36m•\u001b[39m `Uridine` -> `Uridine...7`\n",
      "\u001b[36m•\u001b[39m `Hypoxanthine` -> `Hypoxanthine...8`\n",
      "\u001b[36m•\u001b[39m `Hypoxanthine` -> `Hypoxanthine...9`\n",
      "\u001b[36m•\u001b[39m `Hypoxanthine` -> `Hypoxanthine...10`\n",
      "\u001b[36m•\u001b[39m `Guanine` -> `Guanine...11`\n",
      "\u001b[36m•\u001b[39m `Guanine` -> `Guanine...12`\n",
      "\u001b[36m•\u001b[39m `Guanine` -> `Guanine...13`\n",
      "\u001b[36m•\u001b[39m `Brequinar` -> `Brequinar...14`\n",
      "\u001b[36m•\u001b[39m `Brequinar` -> `Brequinar...15`\n",
      "\u001b[36m•\u001b[39m `Brequinar` -> `Brequinar...16`\n",
      "\u001b[36m•\u001b[39m `Brequinar + Uridine` -> `Brequinar + Uridine...17`\n",
      "\u001b[36m•\u001b[39m `Brequinar + Uridine` -> `Brequinar + Uridine...18`\n",
      "\u001b[36m•\u001b[39m `Brequinar + Uridine` -> `Brequinar + Uridine...19`\n",
      "\u001b[36m•\u001b[39m `RX-3117` -> `RX-3117...20`\n",
      "\u001b[36m•\u001b[39m `RX-3117` -> `RX-3117...21`\n",
      "\u001b[36m•\u001b[39m `RX-3117` -> `RX-3117...22`\n",
      "\u001b[36m•\u001b[39m `RX-3117 + Uridine` -> `RX-3117 + Uridine...23`\n",
      "\u001b[36m•\u001b[39m `RX-3117 + Uridine` -> `RX-3117 + Uridine...24`\n",
      "\u001b[36m•\u001b[39m `RX-3117 + Uridine` -> `RX-3117 + Uridine...25`\n",
      "\u001b[36m•\u001b[39m `Pyrazofurin` -> `Pyrazofurin...26`\n",
      "\u001b[36m•\u001b[39m `Pyrazofurin` -> `Pyrazofurin...27`\n",
      "\u001b[36m•\u001b[39m `Pyrazofurin` -> `Pyrazofurin...28`\n",
      "\u001b[36m•\u001b[39m `Pyrazofurin + Uridine` -> `Pyrazofurin + Uridine...29`\n",
      "\u001b[36m•\u001b[39m `Pyrazofurin + Uridine` -> `Pyrazofurin + Uridine...30`\n",
      "\u001b[36m•\u001b[39m `Pyrazofurin + Uridine` -> `Pyrazofurin + Uridine...31`\n",
      "\u001b[36m•\u001b[39m `Lometrexol` -> `Lometrexol...32`\n",
      "\u001b[36m•\u001b[39m `Lometrexol` -> `Lometrexol...33`\n",
      "\u001b[36m•\u001b[39m `Lometrexol` -> `Lometrexol...34`\n",
      "\u001b[36m•\u001b[39m `Lometrexol + Hypoxanthine` -> `Lometrexol + Hypoxanthine...35`\n",
      "\u001b[36m•\u001b[39m `Lometrexol + Hypoxanthine` -> `Lometrexol + Hypoxanthine...36`\n",
      "\u001b[36m•\u001b[39m `Lometrexol + Hypoxanthine` -> `Lometrexol + Hypoxanthine...37`\n",
      "\u001b[36m•\u001b[39m `Mycophenolate Mofetil` -> `Mycophenolate Mofetil...38`\n",
      "\u001b[36m•\u001b[39m `Mycophenolate Mofetil` -> `Mycophenolate Mofetil...39`\n",
      "\u001b[36m•\u001b[39m `Mycophenolate Mofetil` -> `Mycophenolate Mofetil...40`\n",
      "\u001b[36m•\u001b[39m `Mycophenolate Mofetil + Guanine` -> `Mycophenolate Mofetil + Guanine...41`\n",
      "\u001b[36m•\u001b[39m `Mycophenolate Mofetil + Guanine` -> `Mycophenolate Mofetil + Guanine...42`\n",
      "\u001b[36m•\u001b[39m `Mycophenolate Mofetil + Guanine` -> `Mycophenolate Mofetil + Guanine...43`\n"
     ]
    },
    {
     "data": {
      "text/html": [
       "<table class=\"dataframe\">\n",
       "<caption>A data.frame: 6 × 42</caption>\n",
       "<thead>\n",
       "\t<tr><th></th><th scope=col>Untreated...2</th><th scope=col>Untreated...3</th><th scope=col>Untreated...4</th><th scope=col>Uridine...5</th><th scope=col>Uridine...6</th><th scope=col>Uridine...7</th><th scope=col>Hypoxanthine...8</th><th scope=col>Hypoxanthine...9</th><th scope=col>Hypoxanthine...10</th><th scope=col>Guanine...11</th><th scope=col>⋯</th><th scope=col>Lometrexol...34</th><th scope=col>Lometrexol + Hypoxanthine...35</th><th scope=col>Lometrexol + Hypoxanthine...36</th><th scope=col>Lometrexol + Hypoxanthine...37</th><th scope=col>Mycophenolate Mofetil...38</th><th scope=col>Mycophenolate Mofetil...39</th><th scope=col>Mycophenolate Mofetil...40</th><th scope=col>Mycophenolate Mofetil + Guanine...41</th><th scope=col>Mycophenolate Mofetil + Guanine...42</th><th scope=col>Mycophenolate Mofetil + Guanine...43</th></tr>\n",
       "\t<tr><th></th><th scope=col>&lt;dbl&gt;</th><th scope=col>&lt;dbl&gt;</th><th scope=col>&lt;dbl&gt;</th><th scope=col>&lt;dbl&gt;</th><th scope=col>&lt;dbl&gt;</th><th scope=col>&lt;dbl&gt;</th><th scope=col>&lt;dbl&gt;</th><th scope=col>&lt;dbl&gt;</th><th scope=col>&lt;dbl&gt;</th><th scope=col>&lt;dbl&gt;</th><th scope=col>⋯</th><th scope=col>&lt;dbl&gt;</th><th scope=col>&lt;dbl&gt;</th><th scope=col>&lt;dbl&gt;</th><th scope=col>&lt;dbl&gt;</th><th scope=col>&lt;dbl&gt;</th><th scope=col>&lt;dbl&gt;</th><th scope=col>&lt;dbl&gt;</th><th scope=col>&lt;dbl&gt;</th><th scope=col>&lt;dbl&gt;</th><th scope=col>&lt;dbl&gt;</th></tr>\n",
       "</thead>\n",
       "<tbody>\n",
       "\t<tr><th scope=row>1-methylnicotinamide</th><td> 0.37259823</td><td>-0.77590177</td><td> 0.165164772</td><td>-1.6198508</td><td>-0.4088225</td><td>-0.6979482</td><td>-1.7470861</td><td>-0.3267445</td><td>-0.2965023</td><td>-0.4074976</td><td>⋯</td><td>-1.6419037</td><td>-1.8781208</td><td>-1.4071975</td><td>-0.33047123</td><td> 3.62805453</td><td>-1.6730668</td><td>-0.27481010</td><td>-1.0938871</td><td> 0.3321382</td><td> 0.3666620</td></tr>\n",
       "\t<tr><th scope=row>2-aminoadipate</th><td> 0.16785793</td><td>-0.04892078</td><td>-0.136138360</td><td>-0.3918323</td><td>-0.2611380</td><td>-0.2607833</td><td>-0.4180049</td><td>-0.6563480</td><td>-0.4893045</td><td>-0.2712184</td><td>⋯</td><td>-0.8804102</td><td>-0.9297375</td><td>-1.0540628</td><td>-0.51710572</td><td>-0.54960195</td><td>-0.2366492</td><td>-0.54471063</td><td>-0.4036766</td><td>-0.4674414</td><td>-0.3004052</td></tr>\n",
       "\t<tr><th scope=row>2-hydroxyglutarate</th><td>-0.03757093</td><td> 0.02985740</td><td> 0.006900908</td><td>-0.7920534</td><td>-0.5947123</td><td>-0.5664618</td><td>-0.4284050</td><td>-0.4058553</td><td>-0.5136667</td><td>-1.7675352</td><td>⋯</td><td>-1.2360493</td><td> 0.1662572</td><td>-0.2262425</td><td> 0.01843323</td><td>-0.02154809</td><td>-0.1674646</td><td>-0.20469710</td><td>-0.6775721</td><td>-1.0568173</td><td>-0.3484941</td></tr>\n",
       "\t<tr><th scope=row>2-oxoadipate</th><td>         NA</td><td>         NA</td><td>          NA</td><td>        NA</td><td>        NA</td><td>        NA</td><td>        NA</td><td>        NA</td><td>        NA</td><td>        NA</td><td>⋯</td><td>        NA</td><td>        NA</td><td>        NA</td><td>         NA</td><td>         NA</td><td>        NA</td><td>         NA</td><td>        NA</td><td>        NA</td><td>        NA</td></tr>\n",
       "\t<tr><th scope=row>2,3-BPG</th><td>-0.08061619</td><td> 0.10869647</td><td>-0.034909799</td><td> 1.4373114</td><td>        NA</td><td>        NA</td><td>        NA</td><td>-0.2333177</td><td>        NA</td><td>        NA</td><td>⋯</td><td>        NA</td><td>        NA</td><td>-0.4844000</td><td>-0.25032287</td><td>         NA</td><td>        NA</td><td>         NA</td><td>        NA</td><td>        NA</td><td>        NA</td></tr>\n",
       "\t<tr><th scope=row>3-hydroxybutyrate</th><td>-0.04410740</td><td>-0.12932359</td><td> 0.158143481</td><td>-0.3871479</td><td>        NA</td><td>-0.3365926</td><td> 0.4097246</td><td>-2.7482055</td><td>-0.5531777</td><td>-0.4589883</td><td>⋯</td><td>        NA</td><td> 0.2285498</td><td> 0.6633882</td><td>-0.38760037</td><td>-0.34111360</td><td>-0.3975204</td><td> 0.07998416</td><td> 0.1629431</td><td> 0.6009965</td><td>-0.1040243</td></tr>\n",
       "</tbody>\n",
       "</table>\n"
      ],
      "text/latex": [
       "A data.frame: 6 × 42\n",
       "\\begin{tabular}{r|lllllllllllllllllllll}\n",
       "  & Untreated...2 & Untreated...3 & Untreated...4 & Uridine...5 & Uridine...6 & Uridine...7 & Hypoxanthine...8 & Hypoxanthine...9 & Hypoxanthine...10 & Guanine...11 & ⋯ & Lometrexol...34 & Lometrexol + Hypoxanthine...35 & Lometrexol + Hypoxanthine...36 & Lometrexol + Hypoxanthine...37 & Mycophenolate Mofetil...38 & Mycophenolate Mofetil...39 & Mycophenolate Mofetil...40 & Mycophenolate Mofetil + Guanine...41 & Mycophenolate Mofetil + Guanine...42 & Mycophenolate Mofetil + Guanine...43\\\\\n",
       "  & <dbl> & <dbl> & <dbl> & <dbl> & <dbl> & <dbl> & <dbl> & <dbl> & <dbl> & <dbl> & ⋯ & <dbl> & <dbl> & <dbl> & <dbl> & <dbl> & <dbl> & <dbl> & <dbl> & <dbl> & <dbl>\\\\\n",
       "\\hline\n",
       "\t1-methylnicotinamide &  0.37259823 & -0.77590177 &  0.165164772 & -1.6198508 & -0.4088225 & -0.6979482 & -1.7470861 & -0.3267445 & -0.2965023 & -0.4074976 & ⋯ & -1.6419037 & -1.8781208 & -1.4071975 & -0.33047123 &  3.62805453 & -1.6730668 & -0.27481010 & -1.0938871 &  0.3321382 &  0.3666620\\\\\n",
       "\t2-aminoadipate &  0.16785793 & -0.04892078 & -0.136138360 & -0.3918323 & -0.2611380 & -0.2607833 & -0.4180049 & -0.6563480 & -0.4893045 & -0.2712184 & ⋯ & -0.8804102 & -0.9297375 & -1.0540628 & -0.51710572 & -0.54960195 & -0.2366492 & -0.54471063 & -0.4036766 & -0.4674414 & -0.3004052\\\\\n",
       "\t2-hydroxyglutarate & -0.03757093 &  0.02985740 &  0.006900908 & -0.7920534 & -0.5947123 & -0.5664618 & -0.4284050 & -0.4058553 & -0.5136667 & -1.7675352 & ⋯ & -1.2360493 &  0.1662572 & -0.2262425 &  0.01843323 & -0.02154809 & -0.1674646 & -0.20469710 & -0.6775721 & -1.0568173 & -0.3484941\\\\\n",
       "\t2-oxoadipate &          NA &          NA &           NA &         NA &         NA &         NA &         NA &         NA &         NA &         NA & ⋯ &         NA &         NA &         NA &          NA &          NA &         NA &          NA &         NA &         NA &         NA\\\\\n",
       "\t2,3-BPG & -0.08061619 &  0.10869647 & -0.034909799 &  1.4373114 &         NA &         NA &         NA & -0.2333177 &         NA &         NA & ⋯ &         NA &         NA & -0.4844000 & -0.25032287 &          NA &         NA &          NA &         NA &         NA &         NA\\\\\n",
       "\t3-hydroxybutyrate & -0.04410740 & -0.12932359 &  0.158143481 & -0.3871479 &         NA & -0.3365926 &  0.4097246 & -2.7482055 & -0.5531777 & -0.4589883 & ⋯ &         NA &  0.2285498 &  0.6633882 & -0.38760037 & -0.34111360 & -0.3975204 &  0.07998416 &  0.1629431 &  0.6009965 & -0.1040243\\\\\n",
       "\\end{tabular}\n"
      ],
      "text/markdown": [
       "\n",
       "A data.frame: 6 × 42\n",
       "\n",
       "| <!--/--> | Untreated...2 &lt;dbl&gt; | Untreated...3 &lt;dbl&gt; | Untreated...4 &lt;dbl&gt; | Uridine...5 &lt;dbl&gt; | Uridine...6 &lt;dbl&gt; | Uridine...7 &lt;dbl&gt; | Hypoxanthine...8 &lt;dbl&gt; | Hypoxanthine...9 &lt;dbl&gt; | Hypoxanthine...10 &lt;dbl&gt; | Guanine...11 &lt;dbl&gt; | ⋯ ⋯ | Lometrexol...34 &lt;dbl&gt; | Lometrexol + Hypoxanthine...35 &lt;dbl&gt; | Lometrexol + Hypoxanthine...36 &lt;dbl&gt; | Lometrexol + Hypoxanthine...37 &lt;dbl&gt; | Mycophenolate Mofetil...38 &lt;dbl&gt; | Mycophenolate Mofetil...39 &lt;dbl&gt; | Mycophenolate Mofetil...40 &lt;dbl&gt; | Mycophenolate Mofetil + Guanine...41 &lt;dbl&gt; | Mycophenolate Mofetil + Guanine...42 &lt;dbl&gt; | Mycophenolate Mofetil + Guanine...43 &lt;dbl&gt; |\n",
       "|---|---|---|---|---|---|---|---|---|---|---|---|---|---|---|---|---|---|---|---|---|---|\n",
       "| 1-methylnicotinamide |  0.37259823 | -0.77590177 |  0.165164772 | -1.6198508 | -0.4088225 | -0.6979482 | -1.7470861 | -0.3267445 | -0.2965023 | -0.4074976 | ⋯ | -1.6419037 | -1.8781208 | -1.4071975 | -0.33047123 |  3.62805453 | -1.6730668 | -0.27481010 | -1.0938871 |  0.3321382 |  0.3666620 |\n",
       "| 2-aminoadipate |  0.16785793 | -0.04892078 | -0.136138360 | -0.3918323 | -0.2611380 | -0.2607833 | -0.4180049 | -0.6563480 | -0.4893045 | -0.2712184 | ⋯ | -0.8804102 | -0.9297375 | -1.0540628 | -0.51710572 | -0.54960195 | -0.2366492 | -0.54471063 | -0.4036766 | -0.4674414 | -0.3004052 |\n",
       "| 2-hydroxyglutarate | -0.03757093 |  0.02985740 |  0.006900908 | -0.7920534 | -0.5947123 | -0.5664618 | -0.4284050 | -0.4058553 | -0.5136667 | -1.7675352 | ⋯ | -1.2360493 |  0.1662572 | -0.2262425 |  0.01843323 | -0.02154809 | -0.1674646 | -0.20469710 | -0.6775721 | -1.0568173 | -0.3484941 |\n",
       "| 2-oxoadipate |          NA |          NA |           NA |         NA |         NA |         NA |         NA |         NA |         NA |         NA | ⋯ |         NA |         NA |         NA |          NA |          NA |         NA |          NA |         NA |         NA |         NA |\n",
       "| 2,3-BPG | -0.08061619 |  0.10869647 | -0.034909799 |  1.4373114 |         NA |         NA |         NA | -0.2333177 |         NA |         NA | ⋯ |         NA |         NA | -0.4844000 | -0.25032287 |          NA |         NA |          NA |         NA |         NA |         NA |\n",
       "| 3-hydroxybutyrate | -0.04410740 | -0.12932359 |  0.158143481 | -0.3871479 |         NA | -0.3365926 |  0.4097246 | -2.7482055 | -0.5531777 | -0.4589883 | ⋯ |         NA |  0.2285498 |  0.6633882 | -0.38760037 | -0.34111360 | -0.3975204 |  0.07998416 |  0.1629431 |  0.6009965 | -0.1040243 |\n",
       "\n"
      ],
      "text/plain": [
       "                     Untreated...2 Untreated...3 Untreated...4 Uridine...5\n",
       "1-methylnicotinamide  0.37259823   -0.77590177    0.165164772  -1.6198508 \n",
       "2-aminoadipate        0.16785793   -0.04892078   -0.136138360  -0.3918323 \n",
       "2-hydroxyglutarate   -0.03757093    0.02985740    0.006900908  -0.7920534 \n",
       "2-oxoadipate                  NA            NA             NA          NA \n",
       "2,3-BPG              -0.08061619    0.10869647   -0.034909799   1.4373114 \n",
       "3-hydroxybutyrate    -0.04410740   -0.12932359    0.158143481  -0.3871479 \n",
       "                     Uridine...6 Uridine...7 Hypoxanthine...8 Hypoxanthine...9\n",
       "1-methylnicotinamide -0.4088225  -0.6979482  -1.7470861       -0.3267445      \n",
       "2-aminoadipate       -0.2611380  -0.2607833  -0.4180049       -0.6563480      \n",
       "2-hydroxyglutarate   -0.5947123  -0.5664618  -0.4284050       -0.4058553      \n",
       "2-oxoadipate                 NA          NA          NA               NA      \n",
       "2,3-BPG                      NA          NA          NA       -0.2333177      \n",
       "3-hydroxybutyrate            NA  -0.3365926   0.4097246       -2.7482055      \n",
       "                     Hypoxanthine...10 Guanine...11 ⋯ Lometrexol...34\n",
       "1-methylnicotinamide -0.2965023        -0.4074976   ⋯ -1.6419037     \n",
       "2-aminoadipate       -0.4893045        -0.2712184   ⋯ -0.8804102     \n",
       "2-hydroxyglutarate   -0.5136667        -1.7675352   ⋯ -1.2360493     \n",
       "2-oxoadipate                 NA                NA   ⋯         NA     \n",
       "2,3-BPG                      NA                NA   ⋯         NA     \n",
       "3-hydroxybutyrate    -0.5531777        -0.4589883   ⋯         NA     \n",
       "                     Lometrexol + Hypoxanthine...35\n",
       "1-methylnicotinamide -1.8781208                    \n",
       "2-aminoadipate       -0.9297375                    \n",
       "2-hydroxyglutarate    0.1662572                    \n",
       "2-oxoadipate                 NA                    \n",
       "2,3-BPG                      NA                    \n",
       "3-hydroxybutyrate     0.2285498                    \n",
       "                     Lometrexol + Hypoxanthine...36\n",
       "1-methylnicotinamide -1.4071975                    \n",
       "2-aminoadipate       -1.0540628                    \n",
       "2-hydroxyglutarate   -0.2262425                    \n",
       "2-oxoadipate                 NA                    \n",
       "2,3-BPG              -0.4844000                    \n",
       "3-hydroxybutyrate     0.6633882                    \n",
       "                     Lometrexol + Hypoxanthine...37 Mycophenolate Mofetil...38\n",
       "1-methylnicotinamide -0.33047123                     3.62805453               \n",
       "2-aminoadipate       -0.51710572                    -0.54960195               \n",
       "2-hydroxyglutarate    0.01843323                    -0.02154809               \n",
       "2-oxoadipate                  NA                             NA               \n",
       "2,3-BPG              -0.25032287                             NA               \n",
       "3-hydroxybutyrate    -0.38760037                    -0.34111360               \n",
       "                     Mycophenolate Mofetil...39 Mycophenolate Mofetil...40\n",
       "1-methylnicotinamide -1.6730668                 -0.27481010               \n",
       "2-aminoadipate       -0.2366492                 -0.54471063               \n",
       "2-hydroxyglutarate   -0.1674646                 -0.20469710               \n",
       "2-oxoadipate                 NA                          NA               \n",
       "2,3-BPG                      NA                          NA               \n",
       "3-hydroxybutyrate    -0.3975204                  0.07998416               \n",
       "                     Mycophenolate Mofetil + Guanine...41\n",
       "1-methylnicotinamide -1.0938871                          \n",
       "2-aminoadipate       -0.4036766                          \n",
       "2-hydroxyglutarate   -0.6775721                          \n",
       "2-oxoadipate                 NA                          \n",
       "2,3-BPG                      NA                          \n",
       "3-hydroxybutyrate     0.1629431                          \n",
       "                     Mycophenolate Mofetil + Guanine...42\n",
       "1-methylnicotinamide  0.3321382                          \n",
       "2-aminoadipate       -0.4674414                          \n",
       "2-hydroxyglutarate   -1.0568173                          \n",
       "2-oxoadipate                 NA                          \n",
       "2,3-BPG                      NA                          \n",
       "3-hydroxybutyrate     0.6009965                          \n",
       "                     Mycophenolate Mofetil + Guanine...43\n",
       "1-methylnicotinamide  0.3666620                          \n",
       "2-aminoadipate       -0.3004052                          \n",
       "2-hydroxyglutarate   -0.3484941                          \n",
       "2-oxoadipate                 NA                          \n",
       "2,3-BPG                      NA                          \n",
       "3-hydroxybutyrate    -0.1040243                          "
      ]
     },
     "metadata": {},
     "output_type": "display_data"
    }
   ],
   "source": [
    "data = as.data.frame(read_excel(\"../data/2021_04_25_Job1632_Nucleotides and other metabolites merged summary log2 file.xlsx\", \n",
    "                                sheet=\"Duplicates removed\", skip=1))\n",
    "rownames(data) = data[,1]\n",
    "data = data[,2:dim(data)[2]]\n",
    "head(data)"
   ]
  },
  {
   "cell_type": "code",
   "execution_count": 5,
   "id": "secret-thread",
   "metadata": {
    "tags": []
   },
   "outputs": [],
   "source": [
    "data_zero = data[apply(data,1,function(x) sum(is.na(x))) < 20,]\n",
    "#data_zero[is.na(data_zero)] = 0"
   ]
  },
  {
   "cell_type": "code",
   "execution_count": 6,
   "id": "2d74ad85-0527-4851-9e53-1ac4426848ba",
   "metadata": {
    "collapsed": true,
    "jupyter": {
     "outputs_hidden": true
    },
    "nteract": {
     "transient": {
      "deleting": false
     }
    },
    "tags": []
   },
   "outputs": [],
   "source": [
    "nt_metabs = c(\"carbamoyl_aspartate\", \"dihydroorotate\", \"orotate\",\n",
    "              \"cytidine\", \"cytosine\", \"CMP\", \"CDP\", \"CTP\", \n",
    "              \"uracil\", \"uridine\", \"UMP\", \"UDP\", \"UTP\", \n",
    "              \"hypoxanthine\", \"IMP\", \n",
    "              #\"urate\", \"xanthosine\", \"inosine\",\n",
    "              \"adenine\", \"adenosine\", \"AMP\", \"ADP\", \"ATP\", \n",
    "              \"guanine\", \"guanosine\", \"GMP\", \"GDP\", \"GTP\", \n",
    "              \"dCMP\", \"dCDP\", \"dCTP\", \"dTMP\", \"dTDP\", \"dTTP\", \"dAMP\", \"dADP\", \"dATP\", \"dGMP\", \"dGDP\", \"dGTP\")\n",
    "nt_metabs = nt_metabs[which(nt_metabs %in% rownames(data_zero))]\n",
    "data_nt = data_zero[nt_metabs,]\n",
    "#data_nt = data_nt[apply(data_nt,1,function(x) var(x, na.rm=TRUE))>1.5,]\n",
    "#data_nt = data_nt[,c(1:6, 13:15, 19:21, 16:18, 22:24, 7:12, 31:33, 37:39, 34:36, 40:42)]\n",
    "rownames_corr = rownames(data_nt)\n",
    "rownames_corr[1] = \"carbamoyl aspartate\"\n",
    "rownames(data_nt) = rownames_corr"
   ]
  },
  {
   "cell_type": "code",
   "execution_count": 7,
   "id": "5a7ac014",
   "metadata": {
    "tags": []
   },
   "outputs": [],
   "source": [
    "write.csv(data_nt[rev(c(\"ATP\", \"CTP\", \"GTP\", \"UTP\", \"dATP\", \"dCTP\", \"dTTP\")),], \"../output/220205_BD_C50_nt_metabolites.csv\", quote=F)"
   ]
  },
  {
   "cell_type": "code",
   "execution_count": 8,
   "id": "7b58b08d-0284-4a1b-bac0-43d0fef6736e",
   "metadata": {
    "collapsed": true,
    "jupyter": {
     "outputs_hidden": true
    },
    "nteract": {
     "transient": {
      "deleting": false
     }
    },
    "tags": []
   },
   "outputs": [
    {
     "data": {
      "text/html": [
       "<strong>pdf:</strong> 2"
      ],
      "text/latex": [
       "\\textbf{pdf:} 2"
      ],
      "text/markdown": [
       "**pdf:** 2"
      ],
      "text/plain": [
       "pdf \n",
       "  2 "
      ]
     },
     "metadata": {},
     "output_type": "display_data"
    },
    {
     "data": {
      "text/html": [
       "<strong>null device:</strong> 1"
      ],
      "text/latex": [
       "\\textbf{null device:} 1"
      ],
      "text/markdown": [
       "**null device:** 1"
      ],
      "text/plain": [
       "null device \n",
       "          1 "
      ]
     },
     "metadata": {},
     "output_type": "display_data"
    }
   ],
   "source": [
    "options(repr.plot.width=14,repr.plot.height=8)\n",
    "data_nt = data_nt[,c(1:6, 13:15, 19:21, 16:18, 22:24, 7:12, 31:33, 37:39, 34:36, 40:42)]\n",
    "pdf(\"../output/210801_bd_c50_nt_selected.pdf\", width=14, height=7)\n",
    "d = Heatmap(as.matrix(data_nt), cluster_rows=F, cluster_columns = FALSE, \n",
    "        show_column_names = FALSE,\n",
    "        na_col=\"darkgray\",\n",
    "        row_split = factor(c(rep(\"Pyrimidine\\nnucleotide\\nprecursors\", 12),\n",
    "                             rep(\"Purine\\nnucleotide\\nprecursors\", 11 ),\n",
    "                             rep(\"Pyrimidine\\ndNTPs\", 4),\n",
    "                             rep(\"Purine\\ndNTPs\", 3)),\n",
    "                           levels=c(\"Pyrimidine\\nnucleotide\\nprecursors\", \"Purine\\nnucleotide\\nprecursors\",\n",
    "                                    \"Pyrimidine\\ndNTPs\", \"Purine\\ndNTPs\")), row_title_rot = 0,\n",
    "        column_split = factor(c(rep(\"Untreated\",3), rep(\"U\", 3), \n",
    "                                rep(\"BRQ\", 3), rep(\"RX\", 3), \n",
    "                                rep(\"BRQ + U\", 3), rep (\"RX + U\", 3), \n",
    "                                #rep(\"Pyr\", 3), rep(\"Pyr + U\", 3), \n",
    "                                rep(\"Hx\", 3), rep(\"G\", 3), \n",
    "                                rep(\"LTX\", 3), rep(\"MMF\", 3), \n",
    "                                rep(\"LTX + Hx\", 3), rep(\"MMF + G\", 3)), \n",
    "                              levels = c(\"Untreated\", \"U\", \"BRQ\", \"RX\", \"BRQ + U\", \"RX + U\", \n",
    "                                         #\"Pyr\", \"Pyr + U\",\n",
    "                                         \"Hx\", \"G\", \"LTX\", \"MMF\", \"LTX + Hx\", \"MMF + G\")),\n",
    "         heatmap_legend_param = list(title = \"Log fold change\", \n",
    "                                     direction = \"horizontal\",\n",
    "                                     title_position=\"leftcenter\"))\n",
    "draw(d, heatmap_legend_side=\"bottom\")\n",
    "dev.off()\n",
    "dev.off()"
   ]
  },
  {
   "cell_type": "code",
   "execution_count": 9,
   "id": "phantom-throw",
   "metadata": {
    "tags": []
   },
   "outputs": [
    {
     "data": {
      "text/html": [
       "<strong>pdf:</strong> 2"
      ],
      "text/latex": [
       "\\textbf{pdf:} 2"
      ],
      "text/markdown": [
       "**pdf:** 2"
      ],
      "text/plain": [
       "pdf \n",
       "  2 "
      ]
     },
     "metadata": {},
     "output_type": "display_data"
    },
    {
     "data": {
      "text/html": [
       "<strong>null device:</strong> 1"
      ],
      "text/latex": [
       "\\textbf{null device:} 1"
      ],
      "text/markdown": [
       "**null device:** 1"
      ],
      "text/plain": [
       "null device \n",
       "          1 "
      ]
     },
     "metadata": {},
     "output_type": "display_data"
    }
   ],
   "source": [
    "data_zero_pyr = data_zero[,c(1:6,13:30)]\n",
    "data_zero_pyr = data_zero_pyr[apply(data_zero_pyr,1,function(x) var(x, na.rm=TRUE))>1.5,]\n",
    "data_zero_pyr = data_zero_pyr[which(!(rownames(data_zero_pyr) %in% c(\"beta-alanine\", \"alanine\", \"sarcosine\"))),]\n",
    "\n",
    "options(repr.plot.width=10,repr.plot.height=8)\n",
    "\n",
    "pdf(\"../output/210428_bd_c50_pyrimidine_inh_selected.pdf\", width=10, height=8)\n",
    "Heatmap(as.matrix(data_zero_pyr), cluster_columns = FALSE, \n",
    "        #row_km = 4, row_km_repeats=100, \n",
    "        show_column_names = FALSE,\n",
    "        na_col=\"darkgray\",\n",
    "        column_split = factor(c(rep(\"Untreated\",3), rep(\"U\", 3), rep(\"BRQ\", 3), rep(\"BRQ + U\", 3), rep(\"RX\", 3),\n",
    "                                rep(\"RX + U\", 3), rep(\"Pyr\", 3), rep(\"Pyr + U\", 3))))\n",
    "dev.off()\n",
    "dev.off()"
   ]
  },
  {
   "cell_type": "code",
   "execution_count": 10,
   "id": "ideal-athletics",
   "metadata": {
    "tags": []
   },
   "outputs": [
    {
     "data": {
      "text/html": [
       "<strong>pdf:</strong> 2"
      ],
      "text/latex": [
       "\\textbf{pdf:} 2"
      ],
      "text/markdown": [
       "**pdf:** 2"
      ],
      "text/plain": [
       "pdf \n",
       "  2 "
      ]
     },
     "metadata": {},
     "output_type": "display_data"
    },
    {
     "data": {
      "text/html": [
       "<strong>null device:</strong> 1"
      ],
      "text/latex": [
       "\\textbf{null device:} 1"
      ],
      "text/markdown": [
       "**null device:** 1"
      ],
      "text/plain": [
       "null device \n",
       "          1 "
      ]
     },
     "metadata": {},
     "output_type": "display_data"
    }
   ],
   "source": [
    "data_zero_pyr = data_zero[,c(1:6,13:30)]\n",
    "#data_zero_pyr = data_zero_pyr[apply(data_zero_pyr,1,var)>1.5,]\n",
    "data_zero_pyr = data_zero_pyr[which(!(rownames(data_zero_pyr) %in% c(\"beta-alanine\", \"alanine\", \"sarcosine\"))),]\n",
    "\n",
    "options(repr.plot.width=10,repr.plot.height=8)\n",
    "\n",
    "pdf(\"../output/210428_bd_c50_pyrimidine_inh_all.pdf\", width=10, height=25)\n",
    "Heatmap(as.matrix(data_zero_pyr), cluster_columns = FALSE, \n",
    "        #row_km = 5, row_km_repeats=500, \n",
    "        show_column_names = FALSE,na_col=\"darkgray\",\n",
    "        column_split = factor(c(rep(\"Untreated\",3), rep(\"U\", 3), rep(\"BRQ\", 3), rep(\"BRQ + U\", 3), rep(\"RX\", 3),\n",
    "                                rep(\"RX + U\", 3), rep(\"Pyr\", 3), rep(\"Pyr + U\", 3)), \n",
    "                              levels = c(\"Untreated\", \"U\", \"BRQ\", \"BRQ + U\", \"RX\", \"RX + U\", \"Pyr\", \"Pyr + U\")))\n",
    "dev.off()\n",
    "dev.off()"
   ]
  },
  {
   "cell_type": "code",
   "execution_count": 11,
   "id": "intense-backing",
   "metadata": {
    "tags": []
   },
   "outputs": [
    {
     "data": {
      "text/html": [
       "<strong>pdf:</strong> 2"
      ],
      "text/latex": [
       "\\textbf{pdf:} 2"
      ],
      "text/markdown": [
       "**pdf:** 2"
      ],
      "text/plain": [
       "pdf \n",
       "  2 "
      ]
     },
     "metadata": {},
     "output_type": "display_data"
    },
    {
     "data": {
      "text/html": [
       "<strong>null device:</strong> 1"
      ],
      "text/latex": [
       "\\textbf{null device:} 1"
      ],
      "text/markdown": [
       "**null device:** 1"
      ],
      "text/plain": [
       "null device \n",
       "          1 "
      ]
     },
     "metadata": {},
     "output_type": "display_data"
    }
   ],
   "source": [
    "data_zero_pur = cbind(data_zero[,c(1:3)],data_zero[,-c(1:6,13:30)])\n",
    "data_zero_pur = data_zero_pur[apply(data_zero_pur,1,function(x) var(x, na.rm=TRUE)) > 1.5,]\n",
    "\n",
    "options(repr.plot.width=10,repr.plot.height=8)\n",
    "\n",
    "pdf(\"../output/210428_bd_c50_purine_inh_selected.pdf\", width=10, height=10)\n",
    "Heatmap(as.matrix(data_zero_pur), cluster_columns = FALSE, \n",
    "        #row_km = 5, row_km_repeats=500, \n",
    "        show_column_names = FALSE, na_col=\"darkgray\",\n",
    "        column_split = factor(c(rep(\"Untreated\",3), rep(\"Hx\", 3), rep(\"G\", 3), rep(\"LTX\", 3), rep(\"LTX + Hx\", 3),\n",
    "                                rep(\"MMF\", 3), rep(\"MMF + G\", 3)), \n",
    "                              levels = c(\"Untreated\", \"Hx\", \"G\", \"LTX\", \"LTX + Hx\", \"MMF\", \"MMF + G\")))\n",
    "dev.off()\n",
    "dev.off()"
   ]
  },
  {
   "cell_type": "code",
   "execution_count": 12,
   "id": "desirable-teddy",
   "metadata": {
    "tags": []
   },
   "outputs": [
    {
     "data": {
      "text/html": [
       "<strong>pdf:</strong> 2"
      ],
      "text/latex": [
       "\\textbf{pdf:} 2"
      ],
      "text/markdown": [
       "**pdf:** 2"
      ],
      "text/plain": [
       "pdf \n",
       "  2 "
      ]
     },
     "metadata": {},
     "output_type": "display_data"
    },
    {
     "data": {
      "text/html": [
       "<strong>null device:</strong> 1"
      ],
      "text/latex": [
       "\\textbf{null device:} 1"
      ],
      "text/markdown": [
       "**null device:** 1"
      ],
      "text/plain": [
       "null device \n",
       "          1 "
      ]
     },
     "metadata": {},
     "output_type": "display_data"
    }
   ],
   "source": [
    "data_zero_pur = cbind(data_zero[,c(1:3)],data_zero[,-c(1:6,13:30)])\n",
    "\n",
    "pdf(\"../output/210428_bd_c50_purine_inh_all.pdf\", width=10, height=25)\n",
    "Heatmap(as.matrix(data_zero_pur), cluster_columns = FALSE, \n",
    "        #row_km = 6, row_km_repeats=500, \n",
    "        na_col=\"darkgray\", show_column_names = FALSE,\n",
    "        column_split = factor(c(rep(\"Untreated\",3), rep(\"Hx\", 3), rep(\"G\", 3), rep(\"LTX\", 3), rep(\"LTX + Hx\", 3),\n",
    "                                rep(\"MMF\", 3), rep(\"MMF + G\", 3)), \n",
    "                              levels = c(\"Untreated\", \"Hx\", \"G\", \"LTX\", \"LTX + Hx\", \"MMF\", \"MMF + G\")))\n",
    "dev.off()\n",
    "dev.off()"
   ]
  }
 ],
 "metadata": {
  "kernelspec": {
   "display_name": "R",
   "language": "R",
   "name": "ir"
  },
  "language_info": {
   "codemirror_mode": "r",
   "file_extension": ".r",
   "mimetype": "text/x-r-source",
   "name": "R",
   "pygments_lexer": "r",
   "version": "4.1.3"
  },
  "nteract": {
   "version": "0.28.0"
  }
 },
 "nbformat": 4,
 "nbformat_minor": 5
}
